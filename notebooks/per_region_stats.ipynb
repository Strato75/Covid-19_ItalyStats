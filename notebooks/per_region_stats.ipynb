{
 "cells": [
  {
   "cell_type": "markdown",
   "metadata": {},
   "source": [
    "<table align=\"left\">\n",
    "  <td>\n",
    "    <a target=\"_blank\" href=\"https://colab.research.google.com/github/Strato75/Covid-19_ItalyStats/blob/master/notebooks/per_region_stats.ipynb\"><img src=\"https://colab.research.google.com/assets/colab-badge.svg\" />Run in Google Colab</a>\n",
    "  </td>\n",
    "</table>"
   ]
  },
  {
   "cell_type": "code",
   "execution_count": null,
   "metadata": {},
   "outputs": [],
   "source": [
    "%pylab inline\n",
    "import pandas as pd\n",
    "import requests\n",
    "import numpy as np\n",
    "import matplotlib.pyplot as plt"
   ]
  },
  {
   "cell_type": "code",
   "execution_count": null,
   "metadata": {},
   "outputs": [],
   "source": [
    "def plot_field(groups, sel_regions, field, ms = 4):\n",
    "    for g in groups.groups:\n",
    "\n",
    "        x_data = ['-'.join(i.split('T')[0].split('-')[1:]) for i in np.datetime_as_string(groups.get_group(g)['data'].values)]  \n",
    "        data = groups.get_group(g)[field]\n",
    "\n",
    "        m = max(data)\n",
    "        if g in sel_regions:\n",
    "            plt.plot(x_data, data, 'o-', ms=ms, label='%s, max: %d' %(g,m))\n",
    "\n",
    "    plt.title(field)\n",
    "    plt.grid()\n",
    "    plt.xlabel('Data')\n",
    "    plt.ylabel('# casi')\n",
    "    _ = plt.xticks(rotation=90, ha=\"right\")\n",
    "    plt.legend(loc='upper left')\n",
    "\n",
    "\n",
    "def get_df_from_json_url(url):\n",
    "    response = requests.get(url)\n",
    "    #print(response.text)\n",
    "    df = pd.read_json(response.text, orient='records')\n",
    "    return df"
   ]
  },
  {
   "cell_type": "code",
   "execution_count": null,
   "metadata": {},
   "outputs": [],
   "source": [
    "raw_it_region_df = get_df_from_json_url('https://raw.githubusercontent.com/pcm-dpc/COVID-19/master/dati-json/dpc-covid19-ita-regioni.json') \n",
    "raw_it_region_df['data'] = pd.to_datetime(raw_it_region_df['data'], format='%Y-%m-%d %H:%M:%S')"
   ]
  },
  {
   "cell_type": "markdown",
   "metadata": {},
   "source": [
    "### Assign the _minval_ variable to set the number of cases a region must have to plot its statistics"
   ]
  },
  {
   "cell_type": "code",
   "execution_count": null,
   "metadata": {},
   "outputs": [],
   "source": [
    "minval = 1000 "
   ]
  },
  {
   "cell_type": "code",
   "execution_count": null,
   "metadata": {},
   "outputs": [],
   "source": [
    "groups_regions = raw_it_region_df.groupby('denominazione_regione')\n",
    "\n",
    "cols = raw_it_region_df.columns\n",
    "fields = sorted(cols[6:-2])"
   ]
  },
  {
   "cell_type": "code",
   "execution_count": null,
   "metadata": {},
   "outputs": [],
   "source": [
    "sel_regions = list(raw_it_region_df.loc[raw_it_region_df['totale_casi'] > minval, 'denominazione_regione'].unique())\n",
    "\n",
    "f = plt.figure(figsize=(20,16))\n",
    "\n",
    "for index, field in enumerate(fields):\n",
    "    plt.subplot(4,3,index+1)\n",
    "    plot_field(groups_regions, sel_regions, field)\n",
    "\n",
    "plt.tight_layout(rect=[0, 0.01, 1, 0.95])\n",
    "plt.suptitle(\"Statistiche per regione\", fontsize=18)\n",
    "\n",
    "f.savefig('figures/per_region_stats.png', dpi=300, transparency=False, bbox_inches='tight')"
   ]
  },
  {
   "cell_type": "markdown",
   "metadata": {},
   "source": [
    "### Single region stats"
   ]
  },
  {
   "cell_type": "code",
   "execution_count": null,
   "metadata": {},
   "outputs": [],
   "source": [
    "# Region names\n",
    "print (list(raw_it_region_df['denominazione_regione'].unique()))"
   ]
  },
  {
   "cell_type": "code",
   "execution_count": null,
   "metadata": {},
   "outputs": [],
   "source": [
    "region_name = 'Sardegna' # Put here one of the names printed as output in the previous cell"
   ]
  },
  {
   "cell_type": "code",
   "execution_count": null,
   "metadata": {},
   "outputs": [],
   "source": [
    "sel_regions = [region_name] \n",
    "\n",
    "f = plt.figure(figsize=(20,16))\n",
    "\n",
    "for index, field in enumerate(fields):\n",
    "    plt.subplot(4,3,index+1)\n",
    "    plot_field(groups_regions, sel_regions, field)\n",
    "\n",
    "plt.tight_layout(rect=[0, 0.01, 1, 0.95])\n",
    "plt.suptitle(\"Statistiche %s\" % region_name, fontsize=18)\n",
    "\n",
    "f.savefig('figures/%s_stats.png' % region_name, dpi=300, transparency=False, bbox_inches='tight')"
   ]
  },
  {
   "cell_type": "code",
   "execution_count": null,
   "metadata": {},
   "outputs": [],
   "source": []
  }
 ],
 "metadata": {
  "kernelspec": {
   "display_name": "python3-stat-ML",
   "language": "python",
   "name": "python3-stat-ml"
  },
  "language_info": {
   "codemirror_mode": {
    "name": "ipython",
    "version": 3
   },
   "file_extension": ".py",
   "mimetype": "text/x-python",
   "name": "python",
   "nbconvert_exporter": "python",
   "pygments_lexer": "ipython3",
   "version": "3.7.5"
  }
 },
 "nbformat": 4,
 "nbformat_minor": 4
}
