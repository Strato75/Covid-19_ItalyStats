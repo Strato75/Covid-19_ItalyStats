{
 "cells": [
  {
   "cell_type": "code",
   "execution_count": 1,
   "metadata": {},
   "outputs": [
    {
     "name": "stdout",
     "output_type": "stream",
     "text": [
      "Populating the interactive namespace from numpy and matplotlib\n"
     ]
    }
   ],
   "source": [
    "%pylab inline\n",
    "import pandas as pd\n",
    "from scipy.signal import savgol_filter\n",
    "import requests\n",
    "import numpy as np"
   ]
  },
  {
   "cell_type": "code",
   "execution_count": null,
   "metadata": {},
   "outputs": [],
   "source": [
    "def make_patch_spines_invisible(ax):\n",
    "  ax.set_frame_on(True)\n",
    "  ax.patch.set_visible(False)\n",
    "  for sp in ax.spines.values():\n",
    "    sp.set_visible(False)\n",
    "\n",
    "\n",
    "def plot_field(groups, sel_regions, field, minval=1, ms = 4):\n",
    "  for g in groups.groups:\n",
    "\n",
    "    x_data = ['-'.join(i.split('T')[0].split('-')[1:]) for i in np.datetime_as_string(groups.get_group(g)['data'].values)]  \n",
    "    data = groups.get_group(g)[field]\n",
    "\n",
    "    m = max(data)\n",
    "    if g in sel_regions:\n",
    "      plot(x_data, data, 'o-', ms=ms, label='%s, max: %d' %(g,m))\n",
    "\n",
    "  title(field)\n",
    "  grid()\n",
    "  xlabel('Date')\n",
    "  ylabel('#')\n",
    "  _ = xticks(rotation=90, ha=\"right\")\n",
    "  legend()\n",
    "\n",
    "\n",
    "def plot_grad(x_data, raw_data, title_=''):\n",
    "  grad = np.gradient(raw_data)\n",
    "  grad_hat = savgol_filter(grad, sliding_win_size, polynomial_fit_degree) \n",
    "  plot(x_data, grad_hat, 'o-', ms=ms, label=('Derivative smoothed'))\n",
    "  plot(x_data, grad, 'o-', ms=ms, label=('Derivative'))\n",
    "  legend()\n",
    "  title(title_)\n",
    "  grid()\n",
    "  xlabel('Date')\n",
    "  ylabel('cases per day')\n",
    "  _ = xticks(rotation=45)\n",
    "  \n",
    "  return grad\n",
    "\n",
    "\n",
    "def get_df_from_json_url(url):\n",
    "  response = requests.get(url)\n",
    "  df = pd.read_json(response.text, orient='records')\n",
    "  return df"
   ]
  },
  {
   "cell_type": "code",
   "execution_count": null,
   "metadata": {},
   "outputs": [],
   "source": [
    "# data from https://github.com/CSSEGISandData/2019-nCoV\n",
    "\n",
    "#raw_it_province_df = pd.read_json('https://raw.githubusercontent.com/pcm-dpc/COVID-19/master/dati-json/dpc-covid19-ita-province.json', orient='records')\n",
    "#raw_it_region_df = pd.read_json('https://raw.githubusercontent.com/pcm-dpc/COVID-19/master/dati-json/dpc-covid19-ita-regioni.json') \n",
    "#raw_it_df = pd.read_json('https://raw.githubusercontent.com/pcm-dpc/COVID-19/master/dati-json/dpc-covid19-ita-andamento-nazionale.json')\n",
    "\n",
    "# Previous code replaced by the following three lines to bypass ValueError: Expected object or value given by new encoding of json files (they init with \\ufeff byte order mark)\n",
    "raw_it_province_df = get_df_from_json_url('https://raw.githubusercontent.com/pcm-dpc/COVID-19/master/dati-json/dpc-covid19-ita-province.json')\n",
    "raw_it_region_df = get_df_from_json_url('https://raw.githubusercontent.com/pcm-dpc/COVID-19/master/dati-json/dpc-covid19-ita-regioni.json') \n",
    "raw_it_df = get_df_from_json_url('https://raw.githubusercontent.com/pcm-dpc/COVID-19/master/dati-json/dpc-covid19-ita-andamento-nazionale.json')\n",
    "\n",
    "raw_it_region_df['data'] = pd.to_datetime(raw_it_region_df['data'], format='%Y-%m-%d %H:%M:%S')\n",
    "raw_it_province_df['data'] = pd.to_datetime(raw_it_province_df['data'], format='%Y-%m-%d %H:%M:%S')\n",
    "raw_it_df['data'] = pd.to_datetime(raw_it_df['data'], format='%Y-%m-%d %H:%M:%S')\n",
    "\n",
    "groups_province = raw_it_province_df.groupby('denominazione_provincia') \n",
    "\n",
    "# Parameters for savgol filter (Smooting curves)\n",
    "sliding_win_size = 15\n",
    "polynomial_fit_degree = 3"
   ]
  }
 ],
 "metadata": {
  "kernelspec": {
   "display_name": "python3-stat-ML",
   "language": "python",
   "name": "python3-stat-ml"
  },
  "language_info": {
   "codemirror_mode": {
    "name": "ipython",
    "version": 3
   },
   "file_extension": ".py",
   "mimetype": "text/x-python",
   "name": "python",
   "nbconvert_exporter": "python",
   "pygments_lexer": "ipython3",
   "version": "3.7.5"
  }
 },
 "nbformat": 4,
 "nbformat_minor": 4
}
