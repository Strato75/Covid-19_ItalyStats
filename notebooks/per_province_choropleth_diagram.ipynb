{
 "cells": [
  {
   "cell_type": "markdown",
   "metadata": {},
   "source": [
    "<table align=\"left\">\n",
    "  <td>\n",
    "    <a target=\"_blank\" href=\"https://colab.research.google.com/github/Strato75/Covid-19_ItalyStats/blob/master/notebooks/per_province_choropleth_diagram.ipynb\"><img src=\"https://colab.research.google.com/assets/colab-badge.svg\" />Run in Google Colab</a>\n",
    "  </td>\n",
    "</table>"
   ]
  },
  {
   "cell_type": "code",
   "execution_count": null,
   "metadata": {
    "scrolled": true
   },
   "outputs": [],
   "source": [
    "# Execute this cell to install these required packages if you run it in Google Colab\n",
    "!pip install geojson\n",
    "!pip install geopandas\n",
    "!pip install folium"
   ]
  },
  {
   "cell_type": "code",
   "execution_count": null,
   "metadata": {},
   "outputs": [],
   "source": [
    "%pylab inline\n",
    "import pandas as pd\n",
    "import requests\n",
    "import numpy as np\n",
    "import folium\n",
    "import pandas as pd\n",
    "import geopandas as gpd\n",
    "import geojson \n",
    "from matplotlib.colors import rgb2hex\n",
    "import matplotlib.pyplot as plt\n",
    "from branca.colormap import linear\n",
    "from folium.plugins import TimeSliderChoropleth\n",
    "import matplotlib.dates as mdates "
   ]
  },
  {
   "cell_type": "code",
   "execution_count": null,
   "metadata": {},
   "outputs": [],
   "source": [
    "## Globals\n",
    "x_tick_fs = 6\n",
    "\n",
    "## Functions\n",
    "def get_df_from_json_url(url):\n",
    "    response = requests.get(url)\n",
    "    df = pd.read_json(response.text, orient='records')\n",
    "    return df\n",
    "\n",
    "\n",
    "def get_geojson_from_url(url):\n",
    "    response = requests.get(url)\n",
    "    geoj = geojson.loads(response.text)\n",
    "    return geoj\n",
    "\n",
    "\n",
    "def get_choropleth(geoj, gdf_per_date, cen_lat, cen_lon, col_name, name='', legend_name=''):\n",
    "    # create the map\n",
    "    f = folium.Figure(width=650, height=850)\n",
    "\n",
    "    m = folium.Map(location=[cen_lat,cen_lon], \n",
    "                   tiles='Stamen Toner', zoom_start=6,\n",
    "                   control_scale=True,\n",
    "                   zoom_control=True)\n",
    "\n",
    "    gdf_per_date[col_name].replace(0.0, np.nan, inplace=True) # It makes blank background to provinces with zero cases \n",
    "\n",
    "    ## add chloropleth layer\n",
    "    m.choropleth(\n",
    "        geo_data=geoj,\n",
    "        name='Totale casi per provincia',\n",
    "        data=gdf_per_date,\n",
    "        columns=['prov_name', col_name],\n",
    "        fill_color='YlOrRd',\n",
    "        key_on='feature.properties.prov_name',\n",
    "        legend_name='totale casi per 100000 abitanti al %s' % selected_date.date(),\n",
    "        nan_fill_color = 'w',\n",
    "        nan_fill_opacity = 0\n",
    "    )  \n",
    "\n",
    "    gdf_per_date[col_name].replace(np.nan, 0.0, inplace=True) \n",
    "\n",
    "    groups_by_province = gdf_per_date.groupby('prov_name')\n",
    "    for prov in groups_by_province.groups:\n",
    "        if 'In fase di definizione' not in prov:\n",
    "            ser = groups_by_province.get_group(prov)\n",
    "            lat = float(ser['lat'])\n",
    "            long = float(ser['long'])\n",
    "            tot_cases = int(ser[col_name])\n",
    "\n",
    "            if tot_cases:\n",
    "                folium.Circle(\n",
    "                location= [lat, long],\n",
    "                tooltip='%s: %d casi' % (prov, tot_cases),\n",
    "                radius=(30.),\n",
    "                color='crimson',\n",
    "                fill=True,\n",
    "                fill_color='crimson'\n",
    "                ).add_to(m)\n",
    "\n",
    "    # enable layers to be turned in or out\n",
    "    folium.LayerControl().add_to(m)\n",
    "\n",
    "    f.add_child(m)\n",
    "    \n",
    "    return f\n",
    "\n",
    "\n",
    "### Function to create the TimeSliderChoropleth\n",
    "def get_TimeSliderChoropleth(gdf, gdf_merged, cen_lat, cen_lon, feature='prov_name', color_field='totale_casi'):\n",
    "    # Convert timestamps to string epochs\n",
    "    dates_str = [i.strftime(\"%s\") for i in dates]\n",
    "    styledata = {}\n",
    "    \n",
    "    group_by_feat = gdf_merged.groupby(feature)\n",
    "    \n",
    "    ### Creation of styledata structure\n",
    "    for index in gdf.index:\n",
    "        feat = gdf.loc[index][feature]\n",
    "        df = pd.DataFrame({'color': group_by_feat.get_group(feat)[color_field].values, \n",
    "                           'opacity': 1.0 }, index = dates_str)\n",
    "        styledata[index] = df\n",
    "\n",
    "    ## Compute the color dynamic range\n",
    "    max_color, min_color, max_opacity, min_opacity = 0, 0, 0, 0\n",
    "\n",
    "    for prov, data in styledata.items():\n",
    "        max_color = max(max_color, data['color'].max())\n",
    "        min_color = min(max_color, data['color'].min())\n",
    "        max_opacity = max(max_color, data['opacity'].max())\n",
    "        max_opacity = min(max_color, data['opacity'].max())\n",
    "\n",
    "    ## Convert color data to HEX and create a color bar\n",
    "    cmap = linear.PuRd_09.scale(min_color, max_color)\n",
    "\n",
    "    for x, data in styledata.items():\n",
    "        data['color'] = data['color'].apply(cmap)\n",
    "\n",
    "    ### Convert styledata to a dict to be used with a TimeSliderChoropleth \n",
    "    styledict = {\n",
    "        str(index): data.to_dict(orient='index') for\n",
    "        index, data in styledata.items()\n",
    "    }\n",
    "\n",
    "    f = folium.Figure(width=650, height=850)\n",
    "\n",
    "    m = folium.Map(location=[cen_lat,cen_lon], \n",
    "                   tiles='Stamen Toner', zoom_start=6, min_zoom=6, max_zoom=6,\n",
    "                   control_scale=True,\n",
    "                   zoom_control=True)\n",
    "\n",
    "    g = TimeSliderChoropleth(\n",
    "        data=gdf.to_json(),\n",
    "        styledict=styledict,\n",
    "\n",
    "    ).add_to(m)\n",
    "\n",
    "    folium.LayerControl().add_to(m)\n",
    "\n",
    "    f.add_child(m)\n",
    "    \n",
    "    return f"
   ]
  },
  {
   "cell_type": "code",
   "execution_count": null,
   "metadata": {},
   "outputs": [],
   "source": [
    "raw_it_province_df = get_df_from_json_url('https://raw.githubusercontent.com/pcm-dpc/COVID-19/master/dati-json/dpc-covid19-ita-province.json')\n",
    "raw_it_province_df['data'] = pd.to_datetime(raw_it_province_df['data'], format='%Y-%m-%d %H:%M:%S')\n",
    "\n",
    "# Parameters for savgol filter (Smooting curves)\n",
    "sliding_win_size = 15\n",
    "polynomial_fit_degree = 3"
   ]
  },
  {
   "cell_type": "code",
   "execution_count": null,
   "metadata": {},
   "outputs": [],
   "source": [
    "### Data preprocessing\n",
    "## Add a column to dataframe to merge P.A. Bolzano and P.A. Trento as single region to simplify mulitplot diagram\n",
    "raw_it_province_df['new_den_regione'] = raw_it_province_df['denominazione_regione']\n",
    "raw_it_province_df['new_den_regione'].replace('P.A. Bolzano', 'Trentino-Alto Adige', inplace=True)\n",
    "raw_it_province_df['new_den_regione'].replace('P.A. Trento', 'Trentino-Alto Adige', inplace=True)\n",
    "\n",
    "# Data in Popolazione_province.json taken from http://dati.istat.it/\n",
    "prov_pop_df = pd.read_json('Popolazione_province.json')\n",
    "prov_pop_df['Territorio'].replace(\"Valle d'Aosta / Vallée d'Aoste\", \"Aosta\", inplace=True)\n",
    "prov_pop_df['Territorio'].replace(\"Bolzano / Bozen\", \"Bolzano\", inplace=True)\n",
    "prov_pop_df['Territorio'].replace(\"Massa-Carrara\", \"Massa Carrara\", inplace=True)\n",
    "\n",
    "prov_pop_df.drop_duplicates(subset =\"Territorio\", keep = 'first', inplace = True)\n",
    "\n",
    "def population_from_df(prov, df):\n",
    "    row = df[df['Territorio'] == prov]\n",
    "    if not row.empty:\n",
    "        return int(row['Value'])\n",
    "    else:\n",
    "        return -1\n",
    "    \n",
    "## Add population and total normalized cases column to province dataframe\n",
    "norm_factor = 100000 # to get cases per 100000 inhabitants\n",
    "raw_it_province_df['popolazione_provincia'] = raw_it_province_df['denominazione_provincia'].apply(lambda x: population_from_df(x, prov_pop_df))\n",
    "raw_it_province_df['totale_casi_norm'] = (norm_factor * raw_it_province_df['totale_casi'] / raw_it_province_df['popolazione_provincia']).astype(int)\n",
    "\n",
    "### Integrating geojson data\n",
    "geojson_province_url = 'https://raw.githubusercontent.com/openpolis/geojson-italy/master/geojson/limits_IT_provinces.geojson'\n",
    "geoj = get_geojson_from_url(geojson_province_url)\n",
    "gdf = gpd.GeoDataFrame.from_features(geoj)\n",
    "gdf['centroid_lon'] = gdf['geometry'].centroid.x\n",
    "gdf['centroid_lat'] = gdf['geometry'].centroid.y\n",
    "\n",
    "cen_lat = np.median(gdf['centroid_lat'].values)\n",
    "cen_lon = np.median(gdf['centroid_lon'].values)\n",
    "\n",
    "## Add to geodataframe latitude, longitute and total case fields\n",
    "# merge with some columns of raw_it_province_df data \n",
    "raw_it_province_df_small = raw_it_province_df[['data', 'codice_provincia', 'lat', 'long', 'totale_casi', 'totale_casi_norm', 'popolazione_provincia']]\n",
    "gdf_province = gdf.merge(raw_it_province_df_small, left_on='prov_istat_code_num', right_on='codice_provincia')\n",
    "group_by_date = gdf_province.groupby('data')\n",
    "group_by_prov = gdf_province.groupby('prov_name')\n",
    "dates = list(group_by_date.groups)\n",
    "\n",
    "### Add two new columns to simplify the creation of a TimeSliderChoropleth\n",
    "gdf_province['color'] = gdf_province['totale_casi']\n",
    "gdf_province['opacity'] = 1.0\n",
    "\n",
    "### Create a geopandas dataframe with strings for data in order to be serialized to json\n",
    "gdf_timeslide = gdf_province.copy(deep=True)\n",
    "gdf_timeslide[\"data\"] = gdf_timeslide[\"data\"].apply(lambda x: x.strftime(\"%Y-%m-%d\"))"
   ]
  },
  {
   "cell_type": "markdown",
   "metadata": {},
   "source": [
    "### Total case trends per province for each region"
   ]
  },
  {
   "cell_type": "code",
   "execution_count": null,
   "metadata": {},
   "outputs": [],
   "source": [
    "group_by_region = raw_it_province_df.groupby('new_den_regione')\n",
    "\n",
    "fig, ax = plt.subplots(nrows=4, ncols=5, figsize=(25,16))\n",
    "for index, g in enumerate(group_by_region.groups):\n",
    "        curr_ax = ax[index//5][index%5]\n",
    "        reg_df = group_by_region.get_group(g)\n",
    "        g_by_province = reg_df.groupby('denominazione_provincia')\n",
    "\n",
    "        for p in g_by_province.groups:\n",
    "            if 'fase di' not in p:\n",
    "                prov_df = g_by_province.get_group(p)\n",
    "                #x_data = ['-'.join(i.split('T')[0].split('-')[1:]) for i in np.datetime_as_string(prov_df['data'].values)]\n",
    "                x_data = prov_df['data'].values\n",
    "                y_data = prov_df['totale_casi']\n",
    "                curr_ax.plot(x_data, y_data, 'o-', ms=4, label='%s' % p)\n",
    "\n",
    "        curr_ax.legend()\n",
    "        curr_ax.grid()\n",
    "        curr_ax.set_title(g)\n",
    "        _ = curr_ax.set_xticklabels(x_data, rotation=90, fontsize=x_tick_fs)\n",
    "        _ = curr_ax.xaxis.set_major_formatter(mdates.DateFormatter('%m-%d')) \n",
    "        _ = curr_ax.xaxis.set_major_locator(plt.MaxNLocator(40))\n",
    "        _ = plt.setp(curr_ax.get_xticklabels(), rotation = 90, fontsize=x_tick_fs)\n",
    "        \n",
    "        if index%5 == 0:\n",
    "            curr_ax.set_ylabel('# casi')\n",
    "plt.tight_layout(rect=[0, 0.01, 1, 0.95])\n",
    "plt.suptitle(\"Andamento dei casi totali per provincia\", fontsize=18)\n",
    "fig.savefig('figures/provinces_trend.png', dpi=300, transparency=False, )"
   ]
  },
  {
   "cell_type": "markdown",
   "metadata": {},
   "source": [
    "### Choropleth Map"
   ]
  },
  {
   "cell_type": "markdown",
   "metadata": {},
   "source": [
    "#### Get data from the last day"
   ]
  },
  {
   "cell_type": "code",
   "execution_count": null,
   "metadata": {},
   "outputs": [],
   "source": [
    "# Select by date\n",
    "selected_date = dates[-1] # This select the last day available in the dataframe\n",
    "gdf_per_date = group_by_date.get_group(selected_date) # Get dataframe by date\n",
    "\n",
    "### Choropleth with total cases\n",
    "fc = get_choropleth(geoj, gdf_per_date, cen_lat, cen_lon, col_name = 'totale_casi', \n",
    "                         name='Totale casi per provincia', \n",
    "                         legend_name='totale casi al %s' % selected_date.date())\n",
    "\n",
    "### Choropleth with normalized total cases (# cases per 100000 inhabitants)\n",
    "fc_norm = get_choropleth(geoj, gdf_per_date, cen_lat, cen_lon, col_name = 'totale_casi_norm', \n",
    "                         name='Totale casi per provincia', \n",
    "                         legend_name='totale casi per 100000 abitanti al %s' % selected_date.date())"
   ]
  },
  {
   "cell_type": "code",
   "execution_count": null,
   "metadata": {},
   "outputs": [],
   "source": [
    "fc.save('figures/province_choropleth_map.html') \n",
    "fc_norm.save('figures/province_choropleth_map_normalized.html') "
   ]
  },
  {
   "cell_type": "markdown",
   "metadata": {},
   "source": [
    "#### Hover above red points to get the number of cases of that province"
   ]
  },
  {
   "cell_type": "code",
   "execution_count": null,
   "metadata": {},
   "outputs": [],
   "source": [
    "fc"
   ]
  },
  {
   "cell_type": "markdown",
   "metadata": {},
   "source": [
    "### Timeslider choropleth"
   ]
  },
  {
   "cell_type": "code",
   "execution_count": null,
   "metadata": {
    "scrolled": false
   },
   "outputs": [],
   "source": [
    "f_tot = get_TimeSliderChoropleth(gdf, gdf_province, cen_lat, cen_lon, feature='prov_name', color_field='totale_casi')\n",
    "f_tot_norm = get_TimeSliderChoropleth(gdf, gdf_province, cen_lat, cen_lon, feature='prov_name', color_field='totale_casi_norm')"
   ]
  },
  {
   "cell_type": "code",
   "execution_count": null,
   "metadata": {},
   "outputs": [],
   "source": [
    "f_tot.save(\"figures/timesliderchoroplet_prov_totcasi.html\")\n",
    "f_tot_norm.save(\"figures/timesliderchoroplet_prov_totcasi_norm.html\")"
   ]
  },
  {
   "cell_type": "code",
   "execution_count": null,
   "metadata": {},
   "outputs": [],
   "source": [
    "f_tot"
   ]
  }
 ],
 "metadata": {
  "kernelspec": {
   "display_name": "python3-stat-ML",
   "language": "python",
   "name": "python3-stat-ml"
  },
  "language_info": {
   "codemirror_mode": {
    "name": "ipython",
    "version": 3
   },
   "file_extension": ".py",
   "mimetype": "text/x-python",
   "name": "python",
   "nbconvert_exporter": "python",
   "pygments_lexer": "ipython3",
   "version": "3.8.2"
  }
 },
 "nbformat": 4,
 "nbformat_minor": 4
}
